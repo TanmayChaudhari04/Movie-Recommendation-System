{
  "nbformat": 4,
  "nbformat_minor": 0,
  "metadata": {
    "colab": {
      "provenance": []
    },
    "kernelspec": {
      "name": "python3",
      "display_name": "Python 3"
    },
    "language_info": {
      "name": "python"
    },
    "widgets": {
      "application/vnd.jupyter.widget-state+json": {
        "74905687a017403ab34285c30538f337": {
          "model_module": "@jupyter-widgets/controls",
          "model_name": "TextModel",
          "model_module_version": "1.5.0",
          "state": {
            "_dom_classes": [],
            "_model_module": "@jupyter-widgets/controls",
            "_model_module_version": "1.5.0",
            "_model_name": "TextModel",
            "_view_count": null,
            "_view_module": "@jupyter-widgets/controls",
            "_view_module_version": "1.5.0",
            "_view_name": "TextView",
            "continuous_update": true,
            "description": "Movie Title:",
            "description_tooltip": null,
            "disabled": false,
            "layout": "IPY_MODEL_b7b3c820a00d483e80b46d1e42f1a92a",
            "placeholder": "​",
            "style": "IPY_MODEL_248eb322ec9a4ab490e2c0330485a93f",
            "value": "The Avengers 2012"
          }
        },
        "b7b3c820a00d483e80b46d1e42f1a92a": {
          "model_module": "@jupyter-widgets/base",
          "model_name": "LayoutModel",
          "model_module_version": "1.2.0",
          "state": {
            "_model_module": "@jupyter-widgets/base",
            "_model_module_version": "1.2.0",
            "_model_name": "LayoutModel",
            "_view_count": null,
            "_view_module": "@jupyter-widgets/base",
            "_view_module_version": "1.2.0",
            "_view_name": "LayoutView",
            "align_content": null,
            "align_items": null,
            "align_self": null,
            "border": null,
            "bottom": null,
            "display": null,
            "flex": null,
            "flex_flow": null,
            "grid_area": null,
            "grid_auto_columns": null,
            "grid_auto_flow": null,
            "grid_auto_rows": null,
            "grid_column": null,
            "grid_gap": null,
            "grid_row": null,
            "grid_template_areas": null,
            "grid_template_columns": null,
            "grid_template_rows": null,
            "height": null,
            "justify_content": null,
            "justify_items": null,
            "left": null,
            "margin": null,
            "max_height": null,
            "max_width": null,
            "min_height": null,
            "min_width": null,
            "object_fit": null,
            "object_position": null,
            "order": null,
            "overflow": null,
            "overflow_x": null,
            "overflow_y": null,
            "padding": null,
            "right": null,
            "top": null,
            "visibility": null,
            "width": null
          }
        },
        "248eb322ec9a4ab490e2c0330485a93f": {
          "model_module": "@jupyter-widgets/controls",
          "model_name": "DescriptionStyleModel",
          "model_module_version": "1.5.0",
          "state": {
            "_model_module": "@jupyter-widgets/controls",
            "_model_module_version": "1.5.0",
            "_model_name": "DescriptionStyleModel",
            "_view_count": null,
            "_view_module": "@jupyter-widgets/base",
            "_view_module_version": "1.2.0",
            "_view_name": "StyleView",
            "description_width": ""
          }
        },
        "52e15bad3db74ce2af225b6a4265dc12": {
          "model_module": "@jupyter-widgets/output",
          "model_name": "OutputModel",
          "model_module_version": "1.0.0",
          "state": {
            "_dom_classes": [],
            "_model_module": "@jupyter-widgets/output",
            "_model_module_version": "1.0.0",
            "_model_name": "OutputModel",
            "_view_count": null,
            "_view_module": "@jupyter-widgets/output",
            "_view_module_version": "1.0.0",
            "_view_name": "OutputView",
            "layout": "IPY_MODEL_f70ef485a8934916a45db50b5ddb82d6",
            "msg_id": "",
            "outputs": [
              {
                "output_type": "display_data",
                "data": {
                  "text/plain": "           score                                       title  \\\n17067  15.229575                        Avengers, The (2012)   \n25058  12.636510              Avengers: Age of Ultron (2015)   \n20513  12.482574                 Thor: The Dark World (2013)   \n19678  11.920596                           Iron Man 3 (2013)   \n21348  11.672371  Captain America: The Winter Soldier (2014)   \n25071  11.564240           Captain America: Civil War (2016)   \n16725  11.545860   Captain America: The First Avenger (2011)   \n25061  10.994667                              Ant-Man (2015)   \n19841  10.907809                         Man of Steel (2013)   \n16312  10.817268                                 Thor (2011)   \n\n                                     genres  \n17067          Action|Adventure|Sci-Fi|IMAX  \n25058               Action|Adventure|Sci-Fi  \n20513         Action|Adventure|Fantasy|IMAX  \n19678           Action|Sci-Fi|Thriller|IMAX  \n21348          Action|Adventure|Sci-Fi|IMAX  \n25071                Action|Sci-Fi|Thriller  \n16725  Action|Adventure|Sci-Fi|Thriller|War  \n25061               Action|Adventure|Sci-Fi  \n19841  Action|Adventure|Fantasy|Sci-Fi|IMAX  \n16312   Action|Adventure|Drama|Fantasy|IMAX  ",
                  "text/html": "\n  <div id=\"df-e0be03b6-db42-49d6-a195-cad157f376ad\" class=\"colab-df-container\">\n    <div>\n<style scoped>\n    .dataframe tbody tr th:only-of-type {\n        vertical-align: middle;\n    }\n\n    .dataframe tbody tr th {\n        vertical-align: top;\n    }\n\n    .dataframe thead th {\n        text-align: right;\n    }\n</style>\n<table border=\"1\" class=\"dataframe\">\n  <thead>\n    <tr style=\"text-align: right;\">\n      <th></th>\n      <th>score</th>\n      <th>title</th>\n      <th>genres</th>\n    </tr>\n  </thead>\n  <tbody>\n    <tr>\n      <th>17067</th>\n      <td>15.229575</td>\n      <td>Avengers, The (2012)</td>\n      <td>Action|Adventure|Sci-Fi|IMAX</td>\n    </tr>\n    <tr>\n      <th>25058</th>\n      <td>12.636510</td>\n      <td>Avengers: Age of Ultron (2015)</td>\n      <td>Action|Adventure|Sci-Fi</td>\n    </tr>\n    <tr>\n      <th>20513</th>\n      <td>12.482574</td>\n      <td>Thor: The Dark World (2013)</td>\n      <td>Action|Adventure|Fantasy|IMAX</td>\n    </tr>\n    <tr>\n      <th>19678</th>\n      <td>11.920596</td>\n      <td>Iron Man 3 (2013)</td>\n      <td>Action|Sci-Fi|Thriller|IMAX</td>\n    </tr>\n    <tr>\n      <th>21348</th>\n      <td>11.672371</td>\n      <td>Captain America: The Winter Soldier (2014)</td>\n      <td>Action|Adventure|Sci-Fi|IMAX</td>\n    </tr>\n    <tr>\n      <th>25071</th>\n      <td>11.564240</td>\n      <td>Captain America: Civil War (2016)</td>\n      <td>Action|Sci-Fi|Thriller</td>\n    </tr>\n    <tr>\n      <th>16725</th>\n      <td>11.545860</td>\n      <td>Captain America: The First Avenger (2011)</td>\n      <td>Action|Adventure|Sci-Fi|Thriller|War</td>\n    </tr>\n    <tr>\n      <th>25061</th>\n      <td>10.994667</td>\n      <td>Ant-Man (2015)</td>\n      <td>Action|Adventure|Sci-Fi</td>\n    </tr>\n    <tr>\n      <th>19841</th>\n      <td>10.907809</td>\n      <td>Man of Steel (2013)</td>\n      <td>Action|Adventure|Fantasy|Sci-Fi|IMAX</td>\n    </tr>\n    <tr>\n      <th>16312</th>\n      <td>10.817268</td>\n      <td>Thor (2011)</td>\n      <td>Action|Adventure|Drama|Fantasy|IMAX</td>\n    </tr>\n  </tbody>\n</table>\n</div>\n    <div class=\"colab-df-buttons\">\n\n  <div class=\"colab-df-container\">\n    <button class=\"colab-df-convert\" onclick=\"convertToInteractive('df-e0be03b6-db42-49d6-a195-cad157f376ad')\"\n            title=\"Convert this dataframe to an interactive table.\"\n            style=\"display:none;\">\n\n  <svg xmlns=\"http://www.w3.org/2000/svg\" height=\"24px\" viewBox=\"0 -960 960 960\">\n    <path d=\"M120-120v-720h720v720H120Zm60-500h600v-160H180v160Zm220 220h160v-160H400v160Zm0 220h160v-160H400v160ZM180-400h160v-160H180v160Zm440 0h160v-160H620v160ZM180-180h160v-160H180v160Zm440 0h160v-160H620v160Z\"/>\n  </svg>\n    </button>\n\n  <style>\n    .colab-df-container {\n      display:flex;\n      gap: 12px;\n    }\n\n    .colab-df-convert {\n      background-color: #E8F0FE;\n      border: none;\n      border-radius: 50%;\n      cursor: pointer;\n      display: none;\n      fill: #1967D2;\n      height: 32px;\n      padding: 0 0 0 0;\n      width: 32px;\n    }\n\n    .colab-df-convert:hover {\n      background-color: #E2EBFA;\n      box-shadow: 0px 1px 2px rgba(60, 64, 67, 0.3), 0px 1px 3px 1px rgba(60, 64, 67, 0.15);\n      fill: #174EA6;\n    }\n\n    .colab-df-buttons div {\n      margin-bottom: 4px;\n    }\n\n    [theme=dark] .colab-df-convert {\n      background-color: #3B4455;\n      fill: #D2E3FC;\n    }\n\n    [theme=dark] .colab-df-convert:hover {\n      background-color: #434B5C;\n      box-shadow: 0px 1px 3px 1px rgba(0, 0, 0, 0.15);\n      filter: drop-shadow(0px 1px 2px rgba(0, 0, 0, 0.3));\n      fill: #FFFFFF;\n    }\n  </style>\n\n    <script>\n      const buttonEl =\n        document.querySelector('#df-e0be03b6-db42-49d6-a195-cad157f376ad button.colab-df-convert');\n      buttonEl.style.display =\n        google.colab.kernel.accessAllowed ? 'block' : 'none';\n\n      async function convertToInteractive(key) {\n        const element = document.querySelector('#df-e0be03b6-db42-49d6-a195-cad157f376ad');\n        const dataTable =\n          await google.colab.kernel.invokeFunction('convertToInteractive',\n                                                    [key], {});\n        if (!dataTable) return;\n\n        const docLinkHtml = 'Like what you see? Visit the ' +\n          '<a target=\"_blank\" href=https://colab.research.google.com/notebooks/data_table.ipynb>data table notebook</a>'\n          + ' to learn more about interactive tables.';\n        element.innerHTML = '';\n        dataTable['output_type'] = 'display_data';\n        await google.colab.output.renderOutput(dataTable, element);\n        const docLink = document.createElement('div');\n        docLink.innerHTML = docLinkHtml;\n        element.appendChild(docLink);\n      }\n    </script>\n  </div>\n\n\n<div id=\"df-ab6b44b4-0627-4b16-a92e-28d752b1d4b1\">\n  <button class=\"colab-df-quickchart\" onclick=\"quickchart('df-ab6b44b4-0627-4b16-a92e-28d752b1d4b1')\"\n            title=\"Suggest charts\"\n            style=\"display:none;\">\n\n<svg xmlns=\"http://www.w3.org/2000/svg\" height=\"24px\"viewBox=\"0 0 24 24\"\n     width=\"24px\">\n    <g>\n        <path d=\"M19 3H5c-1.1 0-2 .9-2 2v14c0 1.1.9 2 2 2h14c1.1 0 2-.9 2-2V5c0-1.1-.9-2-2-2zM9 17H7v-7h2v7zm4 0h-2V7h2v10zm4 0h-2v-4h2v4z\"/>\n    </g>\n</svg>\n  </button>\n\n<style>\n  .colab-df-quickchart {\n      --bg-color: #E8F0FE;\n      --fill-color: #1967D2;\n      --hover-bg-color: #E2EBFA;\n      --hover-fill-color: #174EA6;\n      --disabled-fill-color: #AAA;\n      --disabled-bg-color: #DDD;\n  }\n\n  [theme=dark] .colab-df-quickchart {\n      --bg-color: #3B4455;\n      --fill-color: #D2E3FC;\n      --hover-bg-color: #434B5C;\n      --hover-fill-color: #FFFFFF;\n      --disabled-bg-color: #3B4455;\n      --disabled-fill-color: #666;\n  }\n\n  .colab-df-quickchart {\n    background-color: var(--bg-color);\n    border: none;\n    border-radius: 50%;\n    cursor: pointer;\n    display: none;\n    fill: var(--fill-color);\n    height: 32px;\n    padding: 0;\n    width: 32px;\n  }\n\n  .colab-df-quickchart:hover {\n    background-color: var(--hover-bg-color);\n    box-shadow: 0 1px 2px rgba(60, 64, 67, 0.3), 0 1px 3px 1px rgba(60, 64, 67, 0.15);\n    fill: var(--button-hover-fill-color);\n  }\n\n  .colab-df-quickchart-complete:disabled,\n  .colab-df-quickchart-complete:disabled:hover {\n    background-color: var(--disabled-bg-color);\n    fill: var(--disabled-fill-color);\n    box-shadow: none;\n  }\n\n  .colab-df-spinner {\n    border: 2px solid var(--fill-color);\n    border-color: transparent;\n    border-bottom-color: var(--fill-color);\n    animation:\n      spin 1s steps(1) infinite;\n  }\n\n  @keyframes spin {\n    0% {\n      border-color: transparent;\n      border-bottom-color: var(--fill-color);\n      border-left-color: var(--fill-color);\n    }\n    20% {\n      border-color: transparent;\n      border-left-color: var(--fill-color);\n      border-top-color: var(--fill-color);\n    }\n    30% {\n      border-color: transparent;\n      border-left-color: var(--fill-color);\n      border-top-color: var(--fill-color);\n      border-right-color: var(--fill-color);\n    }\n    40% {\n      border-color: transparent;\n      border-right-color: var(--fill-color);\n      border-top-color: var(--fill-color);\n    }\n    60% {\n      border-color: transparent;\n      border-right-color: var(--fill-color);\n    }\n    80% {\n      border-color: transparent;\n      border-right-color: var(--fill-color);\n      border-bottom-color: var(--fill-color);\n    }\n    90% {\n      border-color: transparent;\n      border-bottom-color: var(--fill-color);\n    }\n  }\n</style>\n\n  <script>\n    async function quickchart(key) {\n      const quickchartButtonEl =\n        document.querySelector('#' + key + ' button');\n      quickchartButtonEl.disabled = true;  // To prevent multiple clicks.\n      quickchartButtonEl.classList.add('colab-df-spinner');\n      try {\n        const charts = await google.colab.kernel.invokeFunction(\n            'suggestCharts', [key], {});\n      } catch (error) {\n        console.error('Error during call to suggestCharts:', error);\n      }\n      quickchartButtonEl.classList.remove('colab-df-spinner');\n      quickchartButtonEl.classList.add('colab-df-quickchart-complete');\n    }\n    (() => {\n      let quickchartButtonEl =\n        document.querySelector('#df-ab6b44b4-0627-4b16-a92e-28d752b1d4b1 button');\n      quickchartButtonEl.style.display =\n        google.colab.kernel.accessAllowed ? 'block' : 'none';\n    })();\n  </script>\n</div>\n\n    </div>\n  </div>\n",
                  "application/vnd.google.colaboratory.intrinsic+json": {
                    "type": "dataframe",
                    "summary": "{\n  \"name\": \"display(movie_input_name, recommendation_list)\",\n  \"rows\": 10,\n  \"fields\": [\n    {\n      \"column\": \"score\",\n      \"properties\": {\n        \"dtype\": \"number\",\n        \"std\": 1.2985104012202295,\n        \"min\": 10.817268450869172,\n        \"max\": 15.229575318986859,\n        \"num_unique_values\": 10,\n        \"samples\": [\n          10.907808527855492,\n          12.63651015808803,\n          11.564240330509532\n        ],\n        \"semantic_type\": \"\",\n        \"description\": \"\"\n      }\n    },\n    {\n      \"column\": \"title\",\n      \"properties\": {\n        \"dtype\": \"string\",\n        \"num_unique_values\": 10,\n        \"samples\": [\n          \"Man of Steel (2013)\",\n          \"Avengers: Age of Ultron (2015)\",\n          \"Captain America: Civil War (2016)\"\n        ],\n        \"semantic_type\": \"\",\n        \"description\": \"\"\n      }\n    },\n    {\n      \"column\": \"genres\",\n      \"properties\": {\n        \"dtype\": \"string\",\n        \"num_unique_values\": 8,\n        \"samples\": [\n          \"Action|Adventure|Sci-Fi\",\n          \"Action|Adventure|Sci-Fi|Thriller|War\",\n          \"Action|Adventure|Sci-Fi|IMAX\"\n        ],\n        \"semantic_type\": \"\",\n        \"description\": \"\"\n      }\n    }\n  ]\n}"
                  }
                },
                "metadata": {}
              }
            ]
          }
        },
        "f70ef485a8934916a45db50b5ddb82d6": {
          "model_module": "@jupyter-widgets/base",
          "model_name": "LayoutModel",
          "model_module_version": "1.2.0",
          "state": {
            "_model_module": "@jupyter-widgets/base",
            "_model_module_version": "1.2.0",
            "_model_name": "LayoutModel",
            "_view_count": null,
            "_view_module": "@jupyter-widgets/base",
            "_view_module_version": "1.2.0",
            "_view_name": "LayoutView",
            "align_content": null,
            "align_items": null,
            "align_self": null,
            "border": null,
            "bottom": null,
            "display": null,
            "flex": null,
            "flex_flow": null,
            "grid_area": null,
            "grid_auto_columns": null,
            "grid_auto_flow": null,
            "grid_auto_rows": null,
            "grid_column": null,
            "grid_gap": null,
            "grid_row": null,
            "grid_template_areas": null,
            "grid_template_columns": null,
            "grid_template_rows": null,
            "height": null,
            "justify_content": null,
            "justify_items": null,
            "left": null,
            "margin": null,
            "max_height": null,
            "max_width": null,
            "min_height": null,
            "min_width": null,
            "object_fit": null,
            "object_position": null,
            "order": null,
            "overflow": null,
            "overflow_x": null,
            "overflow_y": null,
            "padding": null,
            "right": null,
            "top": null,
            "visibility": null,
            "width": null
          }
        }
      }
    }
  },
  "cells": [
    {
      "cell_type": "code",
      "execution_count": 17,
      "metadata": {
        "id": "yTTF356LaTbC"
      },
      "outputs": [],
      "source": [
        "import pandas as pd\n",
        "\n",
        "movies = pd.read_csv(\"/movies.csv\" )"
      ]
    },
    {
      "cell_type": "code",
      "source": [
        "import re\n",
        "\n",
        "def clean_title(title):\n",
        "  title = re.sub(\"[^a-zA-Z0-9 ]\", \"\", title)\n",
        "  return title"
      ],
      "metadata": {
        "id": "OdA_inljcCXx"
      },
      "execution_count": 18,
      "outputs": []
    },
    {
      "cell_type": "code",
      "source": [
        "movies[\"clean_title\"] = movies[\"title\"].apply(clean_title)"
      ],
      "metadata": {
        "id": "i03qOvOe_Ctx"
      },
      "execution_count": 19,
      "outputs": []
    },
    {
      "cell_type": "code",
      "source": [
        "#Term Frequency Matrix\n",
        "from sklearn.feature_extraction.text import TfidfVectorizer\n",
        "vectorize = TfidfVectorizer(ngram_range=(1,2))\n",
        "\n",
        "tfidf = vectorize.fit_transform(movies[\"clean_title\"])"
      ],
      "metadata": {
        "id": "RUKHQ5kxc5L_"
      },
      "execution_count": 20,
      "outputs": []
    },
    {
      "cell_type": "code",
      "source": [
        "from sklearn.metrics.pairwise import cosine_similarity\n",
        "import numpy as np\n",
        "\n",
        "def search(title):\n",
        "  title = clean_title(title)\n",
        "  query_vec = vectorize.transform([title])\n",
        "  similarity = cosine_similarity(query_vec, tfidf).flatten()\n",
        "\n",
        "  #Find five most similar items to search term\n",
        "  indices = np.argpartition(similarity, -5)[-5:]\n",
        "  results = movies.iloc[indices][::-1]\n",
        "  return results"
      ],
      "metadata": {
        "id": "Y59I0wNreRiK"
      },
      "execution_count": 21,
      "outputs": []
    },
    {
      "cell_type": "code",
      "source": [
        "#Building a search box\n",
        "import ipywidgets as widgets\n",
        "from IPython.display import display\n",
        "\n",
        "movie_input = widgets.Text(\n",
        "    value = 'Toy Story',\n",
        "    description = 'Movie Title: ',\n",
        "    disabled = False\n",
        ")\n",
        "\n",
        "movie_list = widgets.Output()\n",
        "\n",
        "def on_type(data):\n",
        "  with movie_list:\n",
        "    movie_list.clear_output()\n",
        "    title = data[\"new\"]\n",
        "    if len(title) > 5:\n",
        "      display(search(title))\n",
        "\n",
        "movie_input.observe(on_type, names='value')"
      ],
      "metadata": {
        "id": "epOMjwpL7w2c"
      },
      "execution_count": 69,
      "outputs": []
    },
    {
      "cell_type": "code",
      "source": [
        "ratings = pd.read_csv(\"/ratings.csv\")"
      ],
      "metadata": {
        "id": "SgkLmTNYBgah"
      },
      "execution_count": 70,
      "outputs": []
    },
    {
      "cell_type": "code",
      "source": [
        "#Finding Users who like the same movie\n",
        "movie_id = 1\n",
        "similar_users = ratings[(ratings[\"movieId\"] == movie_id) & (ratings[\"rating\"] >= 4)][\"userId\"].unique()"
      ],
      "metadata": {
        "id": "nOFNM7omB6L0"
      },
      "execution_count": 27,
      "outputs": []
    },
    {
      "cell_type": "code",
      "source": [
        "#Similar users who liked other movies\n",
        "similar_user_recs = ratings[(ratings[\"userId\"].isin(similar_users)) & (ratings[\"rating\"] >= 4)][\"movieId\"]"
      ],
      "metadata": {
        "id": "AgRjIG-BC5sQ"
      },
      "execution_count": 53,
      "outputs": []
    },
    {
      "cell_type": "code",
      "source": [
        "similar_user_recs = similar_user_recs.value_counts() / len(similar_users)\n",
        "similar_user_recs = similar_user_recs[similar_user_recs > .10]"
      ],
      "metadata": {
        "id": "PgZP0tbUD3aa"
      },
      "execution_count": 54,
      "outputs": []
    },
    {
      "cell_type": "code",
      "source": [
        "all_users = ratings[(ratings[\"movieId\"].isin(similar_user_recs.index)) & (ratings[\"rating\"] >= 4)]"
      ],
      "metadata": {
        "id": "WgXXkmcmJrOw"
      },
      "execution_count": 56,
      "outputs": []
    },
    {
      "cell_type": "code",
      "source": [
        "#Percentage of users who liked the movies\n",
        "all_user_recs = all_users[\"movieId\"].value_counts() / len(all_users[\"userId\"].unique())"
      ],
      "metadata": {
        "id": "YzPcm9YNK3HH"
      },
      "execution_count": 57,
      "outputs": []
    },
    {
      "cell_type": "code",
      "source": [
        "#Creating a recommendation score\n",
        "rec_percentages = pd.concat([similar_user_recs, all_user_recs], axis=1)\n",
        "rec_percentages.columns = [\"similar\", \"all\"]"
      ],
      "metadata": {
        "id": "DiboW0vgLdq1"
      },
      "execution_count": 59,
      "outputs": []
    },
    {
      "cell_type": "code",
      "source": [
        "rec_percentages[\"score\"] = rec_percentages[\"similar\"] / rec_percentages[\"all\"]\n",
        "rec_percentages = rec_percentages.sort_values(\"score\", ascending=False)"
      ],
      "metadata": {
        "id": "EUDvshjHOy2e"
      },
      "execution_count": 71,
      "outputs": []
    },
    {
      "cell_type": "code",
      "source": [
        "rec_percentages.head(10).merge(movies, left_index=True, right_on=\"movieId\")"
      ],
      "metadata": {
        "colab": {
          "base_uri": "https://localhost:8080/",
          "height": 363
        },
        "id": "Atpixv53PuiX",
        "outputId": "829cbb79-9d30-42d3-b460-652894dd751e"
      },
      "execution_count": 72,
      "outputs": [
        {
          "output_type": "execute_result",
          "data": {
            "text/plain": [
              "        similar       all     score  movieId  \\\n",
              "0      1.000000  0.235424  4.247660        1   \n",
              "3021   0.327658  0.102244  3.204655     3114   \n",
              "2264   0.189412  0.068981  2.745867     2355   \n",
              "14813  0.158375  0.057712  2.744244    78499   \n",
              "1992   0.122816  0.047130  2.605923     2081   \n",
              "2669   0.102776  0.039856  2.578646     2761   \n",
              "1047   0.231179  0.099117  2.332390     1073   \n",
              "1005   0.127339  0.054721  2.327039     1028   \n",
              "2705   0.152257  0.065915  2.309882     2797   \n",
              "3650   0.127428  0.055521  2.295142     3751   \n",
              "\n",
              "                                            title  \\\n",
              "0                                Toy Story (1995)   \n",
              "3021                           Toy Story 2 (1999)   \n",
              "2264                         Bug's Life, A (1998)   \n",
              "14813                          Toy Story 3 (2010)   \n",
              "1992                   Little Mermaid, The (1989)   \n",
              "2669                       Iron Giant, The (1999)   \n",
              "1047   Willy Wonka & the Chocolate Factory (1971)   \n",
              "1005                          Mary Poppins (1964)   \n",
              "2705                                   Big (1988)   \n",
              "3650                           Chicken Run (2000)   \n",
              "\n",
              "                                                 genres  \\\n",
              "0           Adventure|Animation|Children|Comedy|Fantasy   \n",
              "3021        Adventure|Animation|Children|Comedy|Fantasy   \n",
              "2264                Adventure|Animation|Children|Comedy   \n",
              "14813  Adventure|Animation|Children|Comedy|Fantasy|IMAX   \n",
              "1992          Animation|Children|Comedy|Musical|Romance   \n",
              "2669          Adventure|Animation|Children|Drama|Sci-Fi   \n",
              "1047                    Children|Comedy|Fantasy|Musical   \n",
              "1005                    Children|Comedy|Fantasy|Musical   \n",
              "2705                       Comedy|Drama|Fantasy|Romance   \n",
              "3650                          Animation|Children|Comedy   \n",
              "\n",
              "                                   clean_title  \n",
              "0                               Toy Story 1995  \n",
              "3021                          Toy Story 2 1999  \n",
              "2264                          Bugs Life A 1998  \n",
              "14813                         Toy Story 3 2010  \n",
              "1992                   Little Mermaid The 1989  \n",
              "2669                       Iron Giant The 1999  \n",
              "1047   Willy Wonka  the Chocolate Factory 1971  \n",
              "1005                         Mary Poppins 1964  \n",
              "2705                                  Big 1988  \n",
              "3650                          Chicken Run 2000  "
            ],
            "text/html": [
              "\n",
              "  <div id=\"df-d4614d56-5bfb-430b-b912-17ed8c525e52\" class=\"colab-df-container\">\n",
              "    <div>\n",
              "<style scoped>\n",
              "    .dataframe tbody tr th:only-of-type {\n",
              "        vertical-align: middle;\n",
              "    }\n",
              "\n",
              "    .dataframe tbody tr th {\n",
              "        vertical-align: top;\n",
              "    }\n",
              "\n",
              "    .dataframe thead th {\n",
              "        text-align: right;\n",
              "    }\n",
              "</style>\n",
              "<table border=\"1\" class=\"dataframe\">\n",
              "  <thead>\n",
              "    <tr style=\"text-align: right;\">\n",
              "      <th></th>\n",
              "      <th>similar</th>\n",
              "      <th>all</th>\n",
              "      <th>score</th>\n",
              "      <th>movieId</th>\n",
              "      <th>title</th>\n",
              "      <th>genres</th>\n",
              "      <th>clean_title</th>\n",
              "    </tr>\n",
              "  </thead>\n",
              "  <tbody>\n",
              "    <tr>\n",
              "      <th>0</th>\n",
              "      <td>1.000000</td>\n",
              "      <td>0.235424</td>\n",
              "      <td>4.247660</td>\n",
              "      <td>1</td>\n",
              "      <td>Toy Story (1995)</td>\n",
              "      <td>Adventure|Animation|Children|Comedy|Fantasy</td>\n",
              "      <td>Toy Story 1995</td>\n",
              "    </tr>\n",
              "    <tr>\n",
              "      <th>3021</th>\n",
              "      <td>0.327658</td>\n",
              "      <td>0.102244</td>\n",
              "      <td>3.204655</td>\n",
              "      <td>3114</td>\n",
              "      <td>Toy Story 2 (1999)</td>\n",
              "      <td>Adventure|Animation|Children|Comedy|Fantasy</td>\n",
              "      <td>Toy Story 2 1999</td>\n",
              "    </tr>\n",
              "    <tr>\n",
              "      <th>2264</th>\n",
              "      <td>0.189412</td>\n",
              "      <td>0.068981</td>\n",
              "      <td>2.745867</td>\n",
              "      <td>2355</td>\n",
              "      <td>Bug's Life, A (1998)</td>\n",
              "      <td>Adventure|Animation|Children|Comedy</td>\n",
              "      <td>Bugs Life A 1998</td>\n",
              "    </tr>\n",
              "    <tr>\n",
              "      <th>14813</th>\n",
              "      <td>0.158375</td>\n",
              "      <td>0.057712</td>\n",
              "      <td>2.744244</td>\n",
              "      <td>78499</td>\n",
              "      <td>Toy Story 3 (2010)</td>\n",
              "      <td>Adventure|Animation|Children|Comedy|Fantasy|IMAX</td>\n",
              "      <td>Toy Story 3 2010</td>\n",
              "    </tr>\n",
              "    <tr>\n",
              "      <th>1992</th>\n",
              "      <td>0.122816</td>\n",
              "      <td>0.047130</td>\n",
              "      <td>2.605923</td>\n",
              "      <td>2081</td>\n",
              "      <td>Little Mermaid, The (1989)</td>\n",
              "      <td>Animation|Children|Comedy|Musical|Romance</td>\n",
              "      <td>Little Mermaid The 1989</td>\n",
              "    </tr>\n",
              "    <tr>\n",
              "      <th>2669</th>\n",
              "      <td>0.102776</td>\n",
              "      <td>0.039856</td>\n",
              "      <td>2.578646</td>\n",
              "      <td>2761</td>\n",
              "      <td>Iron Giant, The (1999)</td>\n",
              "      <td>Adventure|Animation|Children|Drama|Sci-Fi</td>\n",
              "      <td>Iron Giant The 1999</td>\n",
              "    </tr>\n",
              "    <tr>\n",
              "      <th>1047</th>\n",
              "      <td>0.231179</td>\n",
              "      <td>0.099117</td>\n",
              "      <td>2.332390</td>\n",
              "      <td>1073</td>\n",
              "      <td>Willy Wonka &amp; the Chocolate Factory (1971)</td>\n",
              "      <td>Children|Comedy|Fantasy|Musical</td>\n",
              "      <td>Willy Wonka  the Chocolate Factory 1971</td>\n",
              "    </tr>\n",
              "    <tr>\n",
              "      <th>1005</th>\n",
              "      <td>0.127339</td>\n",
              "      <td>0.054721</td>\n",
              "      <td>2.327039</td>\n",
              "      <td>1028</td>\n",
              "      <td>Mary Poppins (1964)</td>\n",
              "      <td>Children|Comedy|Fantasy|Musical</td>\n",
              "      <td>Mary Poppins 1964</td>\n",
              "    </tr>\n",
              "    <tr>\n",
              "      <th>2705</th>\n",
              "      <td>0.152257</td>\n",
              "      <td>0.065915</td>\n",
              "      <td>2.309882</td>\n",
              "      <td>2797</td>\n",
              "      <td>Big (1988)</td>\n",
              "      <td>Comedy|Drama|Fantasy|Romance</td>\n",
              "      <td>Big 1988</td>\n",
              "    </tr>\n",
              "    <tr>\n",
              "      <th>3650</th>\n",
              "      <td>0.127428</td>\n",
              "      <td>0.055521</td>\n",
              "      <td>2.295142</td>\n",
              "      <td>3751</td>\n",
              "      <td>Chicken Run (2000)</td>\n",
              "      <td>Animation|Children|Comedy</td>\n",
              "      <td>Chicken Run 2000</td>\n",
              "    </tr>\n",
              "  </tbody>\n",
              "</table>\n",
              "</div>\n",
              "    <div class=\"colab-df-buttons\">\n",
              "\n",
              "  <div class=\"colab-df-container\">\n",
              "    <button class=\"colab-df-convert\" onclick=\"convertToInteractive('df-d4614d56-5bfb-430b-b912-17ed8c525e52')\"\n",
              "            title=\"Convert this dataframe to an interactive table.\"\n",
              "            style=\"display:none;\">\n",
              "\n",
              "  <svg xmlns=\"http://www.w3.org/2000/svg\" height=\"24px\" viewBox=\"0 -960 960 960\">\n",
              "    <path d=\"M120-120v-720h720v720H120Zm60-500h600v-160H180v160Zm220 220h160v-160H400v160Zm0 220h160v-160H400v160ZM180-400h160v-160H180v160Zm440 0h160v-160H620v160ZM180-180h160v-160H180v160Zm440 0h160v-160H620v160Z\"/>\n",
              "  </svg>\n",
              "    </button>\n",
              "\n",
              "  <style>\n",
              "    .colab-df-container {\n",
              "      display:flex;\n",
              "      gap: 12px;\n",
              "    }\n",
              "\n",
              "    .colab-df-convert {\n",
              "      background-color: #E8F0FE;\n",
              "      border: none;\n",
              "      border-radius: 50%;\n",
              "      cursor: pointer;\n",
              "      display: none;\n",
              "      fill: #1967D2;\n",
              "      height: 32px;\n",
              "      padding: 0 0 0 0;\n",
              "      width: 32px;\n",
              "    }\n",
              "\n",
              "    .colab-df-convert:hover {\n",
              "      background-color: #E2EBFA;\n",
              "      box-shadow: 0px 1px 2px rgba(60, 64, 67, 0.3), 0px 1px 3px 1px rgba(60, 64, 67, 0.15);\n",
              "      fill: #174EA6;\n",
              "    }\n",
              "\n",
              "    .colab-df-buttons div {\n",
              "      margin-bottom: 4px;\n",
              "    }\n",
              "\n",
              "    [theme=dark] .colab-df-convert {\n",
              "      background-color: #3B4455;\n",
              "      fill: #D2E3FC;\n",
              "    }\n",
              "\n",
              "    [theme=dark] .colab-df-convert:hover {\n",
              "      background-color: #434B5C;\n",
              "      box-shadow: 0px 1px 3px 1px rgba(0, 0, 0, 0.15);\n",
              "      filter: drop-shadow(0px 1px 2px rgba(0, 0, 0, 0.3));\n",
              "      fill: #FFFFFF;\n",
              "    }\n",
              "  </style>\n",
              "\n",
              "    <script>\n",
              "      const buttonEl =\n",
              "        document.querySelector('#df-d4614d56-5bfb-430b-b912-17ed8c525e52 button.colab-df-convert');\n",
              "      buttonEl.style.display =\n",
              "        google.colab.kernel.accessAllowed ? 'block' : 'none';\n",
              "\n",
              "      async function convertToInteractive(key) {\n",
              "        const element = document.querySelector('#df-d4614d56-5bfb-430b-b912-17ed8c525e52');\n",
              "        const dataTable =\n",
              "          await google.colab.kernel.invokeFunction('convertToInteractive',\n",
              "                                                    [key], {});\n",
              "        if (!dataTable) return;\n",
              "\n",
              "        const docLinkHtml = 'Like what you see? Visit the ' +\n",
              "          '<a target=\"_blank\" href=https://colab.research.google.com/notebooks/data_table.ipynb>data table notebook</a>'\n",
              "          + ' to learn more about interactive tables.';\n",
              "        element.innerHTML = '';\n",
              "        dataTable['output_type'] = 'display_data';\n",
              "        await google.colab.output.renderOutput(dataTable, element);\n",
              "        const docLink = document.createElement('div');\n",
              "        docLink.innerHTML = docLinkHtml;\n",
              "        element.appendChild(docLink);\n",
              "      }\n",
              "    </script>\n",
              "  </div>\n",
              "\n",
              "\n",
              "<div id=\"df-ab6b04a3-a0f6-4435-a771-6d63f59d9e1a\">\n",
              "  <button class=\"colab-df-quickchart\" onclick=\"quickchart('df-ab6b04a3-a0f6-4435-a771-6d63f59d9e1a')\"\n",
              "            title=\"Suggest charts\"\n",
              "            style=\"display:none;\">\n",
              "\n",
              "<svg xmlns=\"http://www.w3.org/2000/svg\" height=\"24px\"viewBox=\"0 0 24 24\"\n",
              "     width=\"24px\">\n",
              "    <g>\n",
              "        <path d=\"M19 3H5c-1.1 0-2 .9-2 2v14c0 1.1.9 2 2 2h14c1.1 0 2-.9 2-2V5c0-1.1-.9-2-2-2zM9 17H7v-7h2v7zm4 0h-2V7h2v10zm4 0h-2v-4h2v4z\"/>\n",
              "    </g>\n",
              "</svg>\n",
              "  </button>\n",
              "\n",
              "<style>\n",
              "  .colab-df-quickchart {\n",
              "      --bg-color: #E8F0FE;\n",
              "      --fill-color: #1967D2;\n",
              "      --hover-bg-color: #E2EBFA;\n",
              "      --hover-fill-color: #174EA6;\n",
              "      --disabled-fill-color: #AAA;\n",
              "      --disabled-bg-color: #DDD;\n",
              "  }\n",
              "\n",
              "  [theme=dark] .colab-df-quickchart {\n",
              "      --bg-color: #3B4455;\n",
              "      --fill-color: #D2E3FC;\n",
              "      --hover-bg-color: #434B5C;\n",
              "      --hover-fill-color: #FFFFFF;\n",
              "      --disabled-bg-color: #3B4455;\n",
              "      --disabled-fill-color: #666;\n",
              "  }\n",
              "\n",
              "  .colab-df-quickchart {\n",
              "    background-color: var(--bg-color);\n",
              "    border: none;\n",
              "    border-radius: 50%;\n",
              "    cursor: pointer;\n",
              "    display: none;\n",
              "    fill: var(--fill-color);\n",
              "    height: 32px;\n",
              "    padding: 0;\n",
              "    width: 32px;\n",
              "  }\n",
              "\n",
              "  .colab-df-quickchart:hover {\n",
              "    background-color: var(--hover-bg-color);\n",
              "    box-shadow: 0 1px 2px rgba(60, 64, 67, 0.3), 0 1px 3px 1px rgba(60, 64, 67, 0.15);\n",
              "    fill: var(--button-hover-fill-color);\n",
              "  }\n",
              "\n",
              "  .colab-df-quickchart-complete:disabled,\n",
              "  .colab-df-quickchart-complete:disabled:hover {\n",
              "    background-color: var(--disabled-bg-color);\n",
              "    fill: var(--disabled-fill-color);\n",
              "    box-shadow: none;\n",
              "  }\n",
              "\n",
              "  .colab-df-spinner {\n",
              "    border: 2px solid var(--fill-color);\n",
              "    border-color: transparent;\n",
              "    border-bottom-color: var(--fill-color);\n",
              "    animation:\n",
              "      spin 1s steps(1) infinite;\n",
              "  }\n",
              "\n",
              "  @keyframes spin {\n",
              "    0% {\n",
              "      border-color: transparent;\n",
              "      border-bottom-color: var(--fill-color);\n",
              "      border-left-color: var(--fill-color);\n",
              "    }\n",
              "    20% {\n",
              "      border-color: transparent;\n",
              "      border-left-color: var(--fill-color);\n",
              "      border-top-color: var(--fill-color);\n",
              "    }\n",
              "    30% {\n",
              "      border-color: transparent;\n",
              "      border-left-color: var(--fill-color);\n",
              "      border-top-color: var(--fill-color);\n",
              "      border-right-color: var(--fill-color);\n",
              "    }\n",
              "    40% {\n",
              "      border-color: transparent;\n",
              "      border-right-color: var(--fill-color);\n",
              "      border-top-color: var(--fill-color);\n",
              "    }\n",
              "    60% {\n",
              "      border-color: transparent;\n",
              "      border-right-color: var(--fill-color);\n",
              "    }\n",
              "    80% {\n",
              "      border-color: transparent;\n",
              "      border-right-color: var(--fill-color);\n",
              "      border-bottom-color: var(--fill-color);\n",
              "    }\n",
              "    90% {\n",
              "      border-color: transparent;\n",
              "      border-bottom-color: var(--fill-color);\n",
              "    }\n",
              "  }\n",
              "</style>\n",
              "\n",
              "  <script>\n",
              "    async function quickchart(key) {\n",
              "      const quickchartButtonEl =\n",
              "        document.querySelector('#' + key + ' button');\n",
              "      quickchartButtonEl.disabled = true;  // To prevent multiple clicks.\n",
              "      quickchartButtonEl.classList.add('colab-df-spinner');\n",
              "      try {\n",
              "        const charts = await google.colab.kernel.invokeFunction(\n",
              "            'suggestCharts', [key], {});\n",
              "      } catch (error) {\n",
              "        console.error('Error during call to suggestCharts:', error);\n",
              "      }\n",
              "      quickchartButtonEl.classList.remove('colab-df-spinner');\n",
              "      quickchartButtonEl.classList.add('colab-df-quickchart-complete');\n",
              "    }\n",
              "    (() => {\n",
              "      let quickchartButtonEl =\n",
              "        document.querySelector('#df-ab6b04a3-a0f6-4435-a771-6d63f59d9e1a button');\n",
              "      quickchartButtonEl.style.display =\n",
              "        google.colab.kernel.accessAllowed ? 'block' : 'none';\n",
              "    })();\n",
              "  </script>\n",
              "</div>\n",
              "\n",
              "    </div>\n",
              "  </div>\n"
            ],
            "application/vnd.google.colaboratory.intrinsic+json": {
              "type": "dataframe",
              "variable_name": "rec_percentages",
              "summary": "{\n  \"name\": \"rec_percentages\",\n  \"rows\": 272,\n  \"fields\": [\n    {\n      \"column\": \"movieId\",\n      \"properties\": {\n        \"dtype\": \"number\",\n        \"std\": 22180,\n        \"min\": 1,\n        \"max\": 134853,\n        \"num_unique_values\": 272,\n        \"samples\": [\n          364,\n          1240,\n          1968\n        ],\n        \"semantic_type\": \"\",\n        \"description\": \"\"\n      }\n    },\n    {\n      \"column\": \"similar\",\n      \"properties\": {\n        \"dtype\": \"number\",\n        \"std\": 0.10257809785524222,\n        \"min\": 0.10020395495255831,\n        \"max\": 1.0,\n        \"num_unique_values\": 256,\n        \"samples\": [\n          0.11102243504478142,\n          0.23117850492152167,\n          0.12866897224439125\n        ],\n        \"semantic_type\": \"\",\n        \"description\": \"\"\n      }\n    },\n    {\n      \"column\": \"all\",\n      \"properties\": {\n        \"dtype\": \"number\",\n        \"std\": 0.06638341315367217,\n        \"min\": 0.03985640705478383,\n        \"max\": 0.4402309973466521,\n        \"num_unique_values\": 271,\n        \"samples\": [\n          0.16339004214140784,\n          0.1589074449820509,\n          0.09320430778835649\n        ],\n        \"semantic_type\": \"\",\n        \"description\": \"\"\n      }\n    },\n    {\n      \"column\": \"score\",\n      \"properties\": {\n        \"dtype\": \"number\",\n        \"std\": 0.3420634157694508,\n        \"min\": 1.1201828942371155,\n        \"max\": 4.247659709883582,\n        \"num_unique_values\": 272,\n        \"samples\": [\n          2.113918778815465,\n          1.7427462582318054,\n          1.8685809530070128\n        ],\n        \"semantic_type\": \"\",\n        \"description\": \"\"\n      }\n    }\n  ]\n}"
            }
          },
          "metadata": {},
          "execution_count": 72
        }
      ]
    },
    {
      "cell_type": "code",
      "source": [
        "#Recommendation Functions\n",
        "def find_similar_movies(movie_id):\n",
        "  similar_users = ratings[(ratings[\"movieId\"] == movie_id) & (ratings[\"rating\"] >= 4)][\"userId\"].unique()\n",
        "  similar_user_recs = ratings[(ratings[\"userId\"].isin(similar_users)) & (ratings[\"rating\"] >= 4)][\"movieId\"]\n",
        "\n",
        "  similar_user_recs = similar_user_recs.value_counts() / len(similar_users)\n",
        "  similar_user_recs = similar_user_recs[similar_user_recs > .10]\n",
        "\n",
        "  all_users = ratings[(ratings[\"movieId\"].isin(similar_user_recs.index)) & (ratings[\"rating\"] >= 4)]\n",
        "  all_user_recs = all_users[\"movieId\"].value_counts() / len(all_users[\"userId\"].unique())\n",
        "\n",
        "  rec_percentages = pd.concat([similar_user_recs, all_user_recs], axis=1)\n",
        "  rec_percentages.columns = [\"similar\", \"all\"]\n",
        "\n",
        "  rec_percentages[\"score\"] = rec_percentages[\"similar\"] / rec_percentages[\"all\"]\n",
        "  rec_percentages = rec_percentages.sort_values(\"score\", ascending=False)\n",
        "\n",
        "  return rec_percentages.head(10).merge(movies, left_index=True, right_on=\"movieId\")[[\"score\", \"title\", \"genres\"]]"
      ],
      "metadata": {
        "id": "o55oMXH-QBc8"
      },
      "execution_count": 73,
      "outputs": []
    },
    {
      "cell_type": "code",
      "source": [
        "movie_input_name = widgets.Text(\n",
        "    value=\"Enter a movie name\",\n",
        "    description=\"Movie Title:\",\n",
        "    disabled=False\n",
        ")\n",
        "\n",
        "recommendation_list = widgets.Output()\n",
        "\n",
        "def on_type(data):\n",
        "  with recommendation_list:\n",
        "    recommendation_list.clear_output()\n",
        "    title = data[\"new\"]\n",
        "    if len(title) > 5:\n",
        "      results = search(title)\n",
        "      movie_id = results.iloc[0][\"movieId\"]\n",
        "      display(find_similar_movies(movie_id))\n",
        "\n",
        "movie_input_name.observe(on_type, names=\"value\")\n",
        "\n",
        "display(movie_input_name, recommendation_list)"
      ],
      "metadata": {
        "colab": {
          "base_uri": "https://localhost:8080/",
          "height": 395,
          "referenced_widgets": [
            "74905687a017403ab34285c30538f337",
            "b7b3c820a00d483e80b46d1e42f1a92a",
            "248eb322ec9a4ab490e2c0330485a93f",
            "52e15bad3db74ce2af225b6a4265dc12",
            "f70ef485a8934916a45db50b5ddb82d6"
          ]
        },
        "id": "tMMPvdP5RnVi",
        "outputId": "855867ce-0a35-4bd6-effe-e1f1297af4a1"
      },
      "execution_count": 76,
      "outputs": [
        {
          "output_type": "display_data",
          "data": {
            "text/plain": [
              "Text(value='Enter a movie name', description='Movie Title:')"
            ],
            "application/vnd.jupyter.widget-view+json": {
              "version_major": 2,
              "version_minor": 0,
              "model_id": "74905687a017403ab34285c30538f337"
            }
          },
          "metadata": {}
        },
        {
          "output_type": "display_data",
          "data": {
            "text/plain": [
              "Output()"
            ],
            "application/vnd.jupyter.widget-view+json": {
              "version_major": 2,
              "version_minor": 0,
              "model_id": "52e15bad3db74ce2af225b6a4265dc12"
            }
          },
          "metadata": {}
        }
      ]
    }
  ]
}